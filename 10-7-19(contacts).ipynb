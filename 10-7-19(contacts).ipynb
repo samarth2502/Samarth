{
 "cells": [
  {
   "cell_type": "code",
   "execution_count": 1,
   "metadata": {},
   "outputs": [
    {
     "ename": "NameError",
     "evalue": "name 'd1' is not defined",
     "output_type": "error",
     "traceback": [
      "\u001b[0;31m---------------------------------------------------------------------------\u001b[0m",
      "\u001b[0;31mNameError\u001b[0m                                 Traceback (most recent call last)",
      "\u001b[0;32m<ipython-input-1-e898c85c5669>\u001b[0m in \u001b[0;36m<module>\u001b[0;34m\u001b[0m\n\u001b[0;32m----> 1\u001b[0;31m \u001b[0md1\u001b[0m \u001b[0;34m[\u001b[0m\u001b[0;34m\"Name\"\u001b[0m\u001b[0;34m]\u001b[0m\u001b[0;34m\u001b[0m\u001b[0;34m\u001b[0m\u001b[0m\n\u001b[0m\u001b[1;32m      2\u001b[0m \u001b[0;34m'GITAM'\u001b[0m\u001b[0;34m\u001b[0m\u001b[0;34m\u001b[0m\u001b[0m\n\u001b[1;32m      3\u001b[0m \u001b[0md1\u001b[0m \u001b[0;34m[\u001b[0m\u001b[0;34m'EmailId'\u001b[0m\u001b[0;34m]\u001b[0m \u001b[0;34m=\u001b[0m \u001b[0;34m'Gitam-python@gmail.com'\u001b[0m\u001b[0;34m\u001b[0m\u001b[0;34m\u001b[0m\u001b[0m\n\u001b[1;32m      4\u001b[0m \u001b[0;34m\u001b[0m\u001b[0m\n",
      "\u001b[0;31mNameError\u001b[0m: name 'd1' is not defined"
     ]
    }
   ],
   "source": [
    "d1 [\"Name\"]\n",
    "'GITAM'\n",
    "d1 ['EmailId'] = 'Gitam-python@gmail.com'\n",
    "\n"
   ]
  },
  {
   "cell_type": "markdown",
   "metadata": {},
   "source": [
    "# contact application\n",
    "### add contact \n",
    "### search the contact \n",
    "### list all contact\n",
    "### modify all contact \n",
    "### remove the contact \n",
    "### import the contact "
   ]
  },
  {
   "cell_type": "code",
   "execution_count": 9,
   "metadata": {},
   "outputs": [
    {
     "name": "stdout",
     "output_type": "stream",
     "text": [
      "contact is details are added\n",
      "contact is details are added\n",
      "contact details are already exists\n"
     ]
    }
   ],
   "source": [
    "# add contact \n",
    "contacts={}\n",
    "def addcontact(name,phoneno):\n",
    "    if name not in contacts:\n",
    "        contacts[name] = phoneno\n",
    "        print(\"contact is details are added\")\n",
    "    else:\n",
    "        print(\"contact details are already exists\")\n",
    "    return\n",
    "addcontact('Anil','8121339911')\n",
    "addcontact('Naveen','9966552211')\n",
    "addcontact('Anil','9876543210')\n",
    "\n"
   ]
  },
  {
   "cell_type": "code",
   "execution_count": 10,
   "metadata": {},
   "outputs": [
    {
     "name": "stdout",
     "output_type": "stream",
     "text": [
      "name : 8121339911\n",
      "%s does not exists % name\n",
      "name : 9966552211\n"
     ]
    }
   ],
   "source": [
    "def searchcontact(name):\n",
    "    if name in contacts:\n",
    "        print('name',\":\",contacts[name])\n",
    "    else:\n",
    "        print(\"%s does not exists % name\")\n",
    "    return \n",
    "searchcontact('Anil')\n",
    "searchcontact('harsha')\n",
    "searchcontact('Naveen')def deletecontact(name):\n",
    "    if name in contacts:\n",
    "        del contacts[name]\n",
    "        print(name,\"deleted successfully\")\n",
    "    else:\n",
    "        print(name,\"does not exist\")\n",
    "    return\n",
    "deletecontact('Maneesh')\n"
   ]
  },
  {
   "cell_type": "code",
   "execution_count": 21,
   "metadata": {},
   "outputs": [
    {
     "name": "stdout",
     "output_type": "stream",
     "text": [
      "2 Contacts added successfully\n"
     ]
    }
   ],
   "source": [
    " def importcontact(newcontacts):\n",
    "        contacts.update(newcontacts)\n",
    "        print(len(newcontacts.keys()), \"Contacts added successfully\")\n",
    "        return\n",
    "newcontacts = {'arvind': 7035582191,'kausheek': 8374751315}\n",
    "importcontact(newcontacts)"
   ]
  },
  {
   "cell_type": "code",
   "execution_count": 22,
   "metadata": {},
   "outputs": [
    {
     "name": "stdout",
     "output_type": "stream",
     "text": [
      "Naveen deleted successfully\n"
     ]
    }
   ],
   "source": [
    "def deletecontact(name):\n",
    "    if name in contacts:\n",
    "        del contacts[name]\n",
    "        print(name,\"deleted successfully\")\n",
    "    else:\n",
    "        print(name,\"does not exist\")\n",
    "    return\n",
    "deletecontact('Naveen')\n"
   ]
  },
  {
   "cell_type": "code",
   "execution_count": 23,
   "metadata": {},
   "outputs": [
    {
     "name": "stdout",
     "output_type": "stream",
     "text": [
      "Anil Updated successfully\n",
      "Ajay Updated successfully\n"
     ]
    }
   ],
   "source": [
    "def deletecontact(name,phone):\n",
    "    if name in contacts:\n",
    "        print(name, \"Updated successfully\")\n",
    "    else:\n",
    "         print(name,\"Not exists\")\n",
    "    return\n",
    "deletecontact('Anil', 9846821694)\n",
    "deletecontact('Ajay', 7894525254)\n"
   ]
  },
  {
   "cell_type": "code",
   "execution_count": 24,
   "metadata": {},
   "outputs": [
    {
     "name": "stdout",
     "output_type": "stream",
     "text": [
      "The 5 th term of the series is : 162\n"
     ]
    }
   ],
   "source": [
    "assignment question---\n",
    "\n",
    "import math  \n",
    "  \n",
    "def Nth_of_GP(a, r, N):  \n",
    "  \n",
    "    # Using formula to find the Nth  \n",
    "    # term TN = a1 * r(N-1)  \n",
    "    return( a * (int)(math.pow(r, N - 1)) )  \n",
    "      \n",
    "# Driver code  \n",
    "a = 2 # Starting number  \n",
    "r = 3 # Common ratio  \n",
    "N = 5 # N th term to be find  \n",
    "      \n",
    "print(\"The\", N, \"th term of the series is :\",  \n",
    "                            Nth_of_GP(a, r, N))  \n"
   ]
  },
  {
   "cell_type": "code",
   "execution_count": 7,
   "metadata": {},
   "outputs": [
    {
     "name": "stdout",
     "output_type": "stream",
     "text": [
      "1 2 3 4 5 6 7 8 9 10 11 12 13 14 15 16 17 18 19 20 21 22 23 24 25 26 27 28 29 30 31 32 33 34 35 36 37 38 39 40 41 42 43 44 45 46 47 48 49 50 51 52 53 54 55 56 57 58 59 60 61 62 63 64 65 66 67 68 69 70 71 72 73 74 75 76 77 78 79 80 81 82 83 84 85 86 87 88 89 90 91 92 93 94 95 96 97 98 99 100 "
     ]
    }
   ],
   "source": [
    "question---\n",
    "\n",
    "# Python3 program to Print \n",
    "# numbers from 1 to n \n",
    "\n",
    "def printNos(n): \n",
    "    if n > 0: \n",
    "        printNos(n - 1) \n",
    "        print(n, end = ' ') \n",
    "    return\n",
    "# Driver code \n",
    "printNos(100)"
   ]
  },
  {
   "cell_type": "code",
   "execution_count": 8,
   "metadata": {},
   "outputs": [
    {
     "name": "stdout",
     "output_type": "stream",
     "text": [
      "Yes\n"
     ]
    }
   ],
   "source": [
    "question---3\n",
    "\n",
    "def isSubSequence(string1, string2, m, n): \n",
    "    # Base Cases \n",
    "    if m == 0:    return True\n",
    "    if n == 0:    return False\n",
    "  \n",
    "    # If last characters of two strings are matching \n",
    "    if string1[m-1] == string2[n-1]: \n",
    "        return isSubSequence(string1, string2, m-1, n-1) \n",
    "  \n",
    "    # If last characters are not matching \n",
    "    return isSubSequence(string1, string2, m, n-1) \n",
    "  \n",
    "# Driver program to test the above function \n",
    "string1 = \"gksrek\"\n",
    "string2 = \"geeksforgeeks\"\n",
    "m = len(string1) \n",
    "n = len(string2) \n",
    "if isSubSequence(string1, string2, m, n): \n",
    "    print (\"Yes\")\n",
    "else: \n",
    "    print (\"No\")\n"
   ]
  },
  {
   "cell_type": "code",
   "execution_count": 13,
   "metadata": {},
   "outputs": [
    {
     "data": {
      "text/plain": [
       "120"
      ]
     },
     "execution_count": 13,
     "metadata": {},
     "output_type": "execute_result"
    }
   ],
   "source": [
    "from math import factorial as fact\n",
    "fact(5)"
   ]
  },
  {
   "cell_type": "code",
   "execution_count": 11,
   "metadata": {},
   "outputs": [
    {
     "data": {
      "text/plain": [
       "123"
      ]
     },
     "execution_count": 11,
     "metadata": {},
     "output_type": "execute_result"
    }
   ],
   "source": [
    "import math\n",
    "math.floor(123.45)"
   ]
  },
  {
   "cell_type": "code",
   "execution_count": 20,
   "metadata": {},
   "outputs": [
    {
     "name": "stdout",
     "output_type": "stream",
     "text": [
      "58 71 32 90 90 27 50 69 18 49 "
     ]
    }
   ],
   "source": [
    "import random\n",
    "def randomNNumbers(n,lb,ub):\n",
    "    for i in range(0,n):\n",
    "         print(random.randint(lb,ub),end=\" \")\n",
    "    return           \n",
    "    \n",
    "randomNNumbers(10,0,100)        "
   ]
  },
  {
   "cell_type": "code",
   "execution_count": 24,
   "metadata": {},
   "outputs": [
    {
     "name": "stdout",
     "output_type": "stream",
     "text": [
      "enter a number45\n",
      "258 158 11 470 151 122 218 98 323 16 196 494 489 309 261 23 284 174 402 185 "
     ]
    }
   ],
   "source": [
    "# create a simple game\n",
    "# generate 20 random numbers from 0 to 500\n",
    "# input : numbers\n",
    "# output : congrats!!!!\n",
    "#         : try once again\n",
    "\n",
    "import random\n",
    "def randomNNumbers(n,lb,ub):\n",
    "    i=(input(\"enter a number=\"))\n",
    "    for i in range(0,n):\n",
    "         print(random.randint(lb,ub),end=\" \")\n",
    "    return           \n",
    "    \n",
    "randomNNumbers(20,0,500) \n",
    "\n",
    "check  "
   ]
  },
  {
   "cell_type": "code",
   "execution_count": null,
   "metadata": {},
   "outputs": [],
   "source": []
  }
 ],
 "metadata": {
  "kernelspec": {
   "display_name": "Python 3",
   "language": "python",
   "name": "python3"
  },
  "language_info": {
   "codemirror_mode": {
    "name": "ipython",
    "version": 3
   },
   "file_extension": ".py",
   "mimetype": "text/x-python",
   "name": "python",
   "nbconvert_exporter": "python",
   "pygments_lexer": "ipython3",
   "version": "3.7.3"
  }
 },
 "nbformat": 4,
 "nbformat_minor": 2
}
