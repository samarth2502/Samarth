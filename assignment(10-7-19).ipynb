{
 "cells": [
  {
   "cell_type": "code",
   "execution_count": 2,
   "metadata": {},
   "outputs": [],
   "source": [
    "# question---1\n",
    "\n",
    "def reverseFibonacci(n): \n",
    "   \n",
    "    a = [0] * n  \n",
    "  \n",
    "    # assigning first and second elements \n",
    "    a[0] = 0 \n",
    "    a[1] = 1 \n",
    "  \n",
    "    for i in range(2, n):   \n",
    "  \n",
    "        # storing sum in the \n",
    "        # preceding location \n",
    "        a[i] = a[i - 2] + a[i - 1]  \n",
    "       \n",
    "  \n",
    "    for i in range(n - 1, -1 , -1):   \n",
    "  \n",
    "        # printing array in \n",
    "        # reverse order \n",
    "        print(a[i],end=\" \")  \n",
    "       \n",
    "   \n",
    "  \n",
    "# Driver function \n",
    "n = 5"
   ]
  },
  {
   "cell_type": "code",
   "execution_count": 4,
   "metadata": {},
   "outputs": [
    {
     "name": "stdout",
     "output_type": "stream",
     "text": [
      "Yes\n"
     ]
    }
   ],
   "source": [
    "#question---3\n",
    "\n",
    "def isSubSequence(string1, string2, m, n): \n",
    "    # Base Cases \n",
    "    if m == 0:    return True\n",
    "    if n == 0:    return False\n",
    "  \n",
    "    # If last characters of two strings are matching \n",
    "    if string1[m-1] == string2[n-1]: \n",
    "        return isSubSequence(string1, string2, m-1, n-1) \n",
    "  \n",
    "    # If last characters are not matching \n",
    "    return isSubSequence(string1, string2, m, n-1) \n",
    "  \n",
    "# Driver program to test the above function \n",
    "string1 = \"gksrek\"\n",
    "string2 = \"geeksforgeeks\"\n",
    "m = len(string1) \n",
    "n = len(string2) \n",
    "if isSubSequence(string1, string2, m, n): \n",
    "    print (\"Yes\")\n",
    "else: \n",
    "    print (\"No\")\n"
   ]
  },
  {
   "cell_type": "code",
   "execution_count": 6,
   "metadata": {},
   "outputs": [
    {
     "name": "stdout",
     "output_type": "stream",
     "text": [
      "1 2 3 4 5 6 7 8 9 10 11 12 13 14 15 16 17 18 19 20 21 22 23 24 25 26 27 28 29 30 31 32 33 34 35 36 37 38 39 40 41 42 43 44 45 46 47 48 49 50 51 52 53 54 55 56 57 58 59 60 61 62 63 64 65 66 67 68 69 70 71 72 73 74 75 76 77 78 79 80 81 82 83 84 85 86 87 88 89 90 91 92 93 94 95 96 97 98 99 100 "
     ]
    }
   ],
   "source": [
    "#question---\n",
    "\n",
    "# Python3 program to Print \n",
    "# numbers from 1 to n \n",
    "\n",
    "def printNos(n): \n",
    "    if n > 0: \n",
    "        printNos(n - 1) \n",
    "        print(n, end = ' ') \n",
    "    return\n",
    "# Driver code \n",
    "printNos(100)"
   ]
  },
  {
   "cell_type": "code",
   "execution_count": 7,
   "metadata": {},
   "outputs": [
    {
     "name": "stdout",
     "output_type": "stream",
     "text": [
      "The 5 th term of the series is : 162\n"
     ]
    }
   ],
   "source": [
    "# question---\n",
    "\n",
    "import math  \n",
    "  \n",
    "def Nth_of_GP(a, r, N):  \n",
    "  \n",
    "    # Using formula to find the Nth  \n",
    "    # term TN = a1 * r(N-1)  \n",
    "    return( a * (int)(math.pow(r, N - 1)) )  \n",
    "      \n",
    "# Driver code  \n",
    "a = 2 # Starting number  \n",
    "r = 3 # Common ratio  \n",
    "N = 5 # N th term to be find  \n",
    "      \n",
    "print(\"The\", N, \"th term of the series is :\",  \n",
    "                            Nth_of_GP(a, r, N))  \n"
   ]
  },
  {
   "cell_type": "code",
   "execution_count": null,
   "metadata": {},
   "outputs": [],
   "source": []
  }
 ],
 "metadata": {
  "kernelspec": {
   "display_name": "Python 3",
   "language": "python",
   "name": "python3"
  },
  "language_info": {
   "codemirror_mode": {
    "name": "ipython",
    "version": 3
   },
   "file_extension": ".py",
   "mimetype": "text/x-python",
   "name": "python",
   "nbconvert_exporter": "python",
   "pygments_lexer": "ipython3",
   "version": "3.7.3"
  }
 },
 "nbformat": 4,
 "nbformat_minor": 2
}
